{
 "cells": [
  {
   "cell_type": "code",
   "execution_count": 1,
   "metadata": {},
   "outputs": [
    {
     "data": {
      "text/plain": [
       "'/home/cseadmin/mhy/oyxd/capstone_project/GCRN/METRLA'"
      ]
     },
     "execution_count": 1,
     "metadata": {},
     "output_type": "execute_result"
    }
   ],
   "source": [
    "import pandas as pd\n",
    "import numpy as np\n",
    "from IPython.core.interactiveshell import InteractiveShell\n",
    "InteractiveShell.ast_node_interactivity=\"all\"\n",
    "\n",
    "%pwd"
   ]
  },
  {
   "cell_type": "code",
   "execution_count": 2,
   "metadata": {},
   "outputs": [
    {
     "data": {
      "text/plain": [
       "(34272, 5)"
      ]
     },
     "execution_count": 2,
     "metadata": {},
     "output_type": "execute_result"
    }
   ],
   "source": [
    "store=pd.HDFStore(\"./metr-la.h5\")\n",
    "df_data=store[\"df\"]\n",
    "index_list=df_data.index\n",
    "ts=index_list[0]\n",
    "\n",
    "def encode_timestamp(ts):\n",
    "    weekday_embedding = [np.sin(2 * np.pi * ts.weekday()/6.0), np.cos(2 * np.pi * ts.weekday()/6.0)]\n",
    "    hour_embedding = [np.sin(2 * np.pi * ts.hour/23.0), np.cos(2 * np.pi * ts.hour/23.0)]\n",
    "    holiday_embedding=[1.0 if ts.weekday()>4 else 0.0]\n",
    "    \n",
    "    embedding=weekday_embedding+hour_embedding+holiday_embedding\n",
    "    return embedding\n",
    "\n",
    "time_embeddings=[]\n",
    "for ts in index_list:\n",
    "    time_embeddings.append(encode_timestamp(ts))\n",
    "    \n",
    "time_embeddings=np.array(time_embeddings)\n",
    "# time_embeddings=np.broadcast_to(embeddings[:, np.newaxis, :], (embeddings.shape[0], 207, embeddings.shape[1]))\n",
    "# np.save(\"./te_metrla.npy\", time_embeddings)\n",
    "time_embeddings.shape\n"
   ]
  },
  {
   "cell_type": "code",
   "execution_count": 3,
   "metadata": {},
   "outputs": [
    {
     "data": {
      "application/vnd.jupyter.widget-view+json": {
       "model_id": "32abd43c819247ec8f7f25250c57fd89",
       "version_major": 2,
       "version_minor": 0
      },
      "text/plain": [
       "Computing transition probabilities:   0%|          | 0/207 [00:00<?, ?it/s]"
      ]
     },
     "metadata": {},
     "output_type": "display_data"
    },
    {
     "name": "stderr",
     "output_type": "stream",
     "text": [
      "Generating walks (CPU: 1): 100%|██████████| 50/50 [00:15<00:00,  3.24it/s]\n",
      "Generating walks (CPU: 3): 100%|██████████| 50/50 [00:15<00:00,  3.32it/s]\n",
      "Generating walks (CPU: 2): 100%|██████████| 50/50 [00:16<00:00,  3.10it/s]\n",
      "Generating walks (CPU: 4): 100%|██████████| 50/50 [00:15<00:00,  3.25it/s]\n"
     ]
    },
    {
     "data": {
      "text/plain": [
       "(207, 2)"
      ]
     },
     "execution_count": 3,
     "metadata": {},
     "output_type": "execute_result"
    }
   ],
   "source": [
    "import networkx as nx\n",
    "from node2vec import Node2Vec\n",
    "df = pd.read_csv('W_metrla.csv')\n",
    "graph = nx.DiGraph(df.values)\n",
    "node2vec = Node2Vec(graph, dimensions=2, walk_length=30, num_walks=200, workers=4)\n",
    "model = node2vec.fit(window=10, min_count=1, batch_words=4)  \n",
    "df_se = pd.DataFrame(model.wv.vectors, index=model.wv.index_to_key)\n",
    "df_se.sort_index(inplace=True)\n",
    "# np.save(\"./se_metrla.npy\", df_se.values)\n",
    "spatial_embeddings = df_se.values\n",
    "spatial_embeddings.shape"
   ]
  },
  {
   "cell_type": "code",
   "execution_count": 4,
   "metadata": {},
   "outputs": [
    {
     "data": {
      "text/plain": [
       "(34272, 414)"
      ]
     },
     "execution_count": 4,
     "metadata": {},
     "output_type": "execute_result"
    }
   ],
   "source": [
    "spatial_embeddings = df_se.values.reshape(1,-1)\n",
    "spatial_embeddings=np.broadcast_to(spatial_embeddings[:, :], (time_embeddings.shape[0], spatial_embeddings.shape[1]))\n",
    "spatial_embeddings.shape"
   ]
  },
  {
   "cell_type": "code",
   "execution_count": 5,
   "metadata": {},
   "outputs": [
    {
     "data": {
      "text/plain": [
       "(34272, 419)"
      ]
     },
     "execution_count": 5,
     "metadata": {},
     "output_type": "execute_result"
    }
   ],
   "source": [
    "data_embedded=np.concatenate((spatial_embeddings, time_embeddings), axis=1)\n",
    "data_embedded.shape"
   ]
  },
  {
   "cell_type": "code",
   "execution_count": 6,
   "metadata": {},
   "outputs": [],
   "source": [
    "np.save(\"./METRLA_STembedded.npy\", data_embedded)\n",
    "np.save(\"./METRLA_Tembedded.npy\", time_embeddings)\n",
    "np.save(\"./METRLA_Sembedded.npy\", spatial_embeddings)"
   ]
  }
 ],
 "metadata": {
  "kernelspec": {
   "display_name": "torch1.7",
   "language": "python",
   "name": "torch1.7"
  },
  "language_info": {
   "codemirror_mode": {
    "name": "ipython",
    "version": 3
   },
   "file_extension": ".py",
   "mimetype": "text/x-python",
   "name": "python",
   "nbconvert_exporter": "python",
   "pygments_lexer": "ipython3",
   "version": "3.7.7"
  },
  "orig_nbformat": 4,
  "vscode": {
   "interpreter": {
    "hash": "4eaddab6d53e3430d65e281d179b4d2e07f5e3825831a8a8ccb553d0c5f6e5f0"
   }
  }
 },
 "nbformat": 4,
 "nbformat_minor": 2
}
